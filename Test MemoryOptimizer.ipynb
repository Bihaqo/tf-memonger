{
 "cells": [
  {
   "cell_type": "code",
   "execution_count": 31,
   "metadata": {
    "collapsed": false
   },
   "outputs": [
    {
     "name": "stdout",
     "output_type": "stream",
     "text": [
      "The autoreload extension is already loaded. To reload it, use:\n",
      "  %reload_ext autoreload\n"
     ]
    }
   ],
   "source": [
    "from MemoryOptimizer import MemoryOptimizer\n",
    "%load_ext autoreload\n",
    "\n",
    "%autoreload 2\n"
   ]
  },
  {
   "cell_type": "code",
   "execution_count": 32,
   "metadata": {
    "collapsed": false
   },
   "outputs": [
    {
     "data": {
      "text/plain": [
       "{1, 3}"
      ]
     },
     "execution_count": 32,
     "metadata": {},
     "output_type": "execute_result"
    }
   ],
   "source": [
    "mem = MemoryOptimizer()\n",
    "\n",
    "# 0 -> 1 -> 2 -> 3\n",
    "\n",
    "mem.my_graph = {}\n",
    "mem.my_graph[0] = lambda: 0\n",
    "mem.my_graph[0].parents = []\n",
    "mem.my_graph[0].children = [1]\n",
    "mem.my_graph[1] = lambda: 0\n",
    "mem.my_graph[1].parents = [0]\n",
    "mem.my_graph[1].children = [2]\n",
    "mem.my_graph[2] = lambda: 0\n",
    "mem.my_graph[2].parents = [1]\n",
    "mem.my_graph[2].children = [3]\n",
    "mem.my_graph[3] = lambda: 0\n",
    "mem.my_graph[3].parents = [2]\n",
    "mem.my_graph[3].children = []\n",
    "\n",
    "mem.starting_nodes = [0]\n",
    "\n",
    "mem.sort_topologically()\n",
    "mem.topological_order[::-1]\n",
    "\n",
    "mem.find_save_points()\n",
    "\n",
    "# {1, 3}\n",
    "mem.store_activations_set"
   ]
  },
  {
   "cell_type": "code",
   "execution_count": 33,
   "metadata": {
    "collapsed": false
   },
   "outputs": [
    {
     "data": {
      "text/plain": [
       "{1, 4}"
      ]
     },
     "execution_count": 33,
     "metadata": {},
     "output_type": "execute_result"
    }
   ],
   "source": [
    "mem = MemoryOptimizer()\n",
    "\n",
    "# 0\n",
    "#    -> 1 -> 2 -> 4\n",
    "# 3\n",
    "\n",
    "mem.my_graph = {}\n",
    "mem.my_graph[0] = lambda: 0\n",
    "mem.my_graph[0].parents = []\n",
    "mem.my_graph[0].children = [1]\n",
    "mem.my_graph[3] = lambda: 0\n",
    "mem.my_graph[3].parents = []\n",
    "mem.my_graph[3].children = [1]\n",
    "mem.my_graph[1] = lambda: 0\n",
    "mem.my_graph[1].parents = [0, 3]\n",
    "mem.my_graph[1].children = [2]\n",
    "mem.my_graph[2] = lambda: 0\n",
    "mem.my_graph[2].parents = [1]\n",
    "mem.my_graph[2].children = [4]\n",
    "mem.my_graph[4] = lambda: 0\n",
    "mem.my_graph[4].parents = [2]\n",
    "mem.my_graph[4].children = []\n",
    "\n",
    "mem.starting_nodes = [0, 3]\n",
    "\n",
    "mem.sort_topologically()\n",
    "mem.topological_order[::-1]\n",
    "\n",
    "mem.find_save_points()\n",
    "\n",
    "# {1, 4}\n",
    "mem.store_activations_set"
   ]
  },
  {
   "cell_type": "code",
   "execution_count": null,
   "metadata": {
    "collapsed": true
   },
   "outputs": [],
   "source": []
  }
 ],
 "metadata": {
  "kernelspec": {
   "display_name": "Python 2",
   "language": "python",
   "name": "python2"
  },
  "language_info": {
   "codemirror_mode": {
    "name": "ipython",
    "version": 2
   },
   "file_extension": ".py",
   "mimetype": "text/x-python",
   "name": "python",
   "nbconvert_exporter": "python",
   "pygments_lexer": "ipython2",
   "version": "2.7.11"
  }
 },
 "nbformat": 4,
 "nbformat_minor": 0
}
